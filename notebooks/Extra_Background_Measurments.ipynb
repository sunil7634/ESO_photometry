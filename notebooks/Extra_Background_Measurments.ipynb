{
 "cells": [
  {
   "cell_type": "markdown",
   "id": "23047296-fdaa-49cf-80a6-9bfbba622023",
   "metadata": {},
   "source": [
    "# Background Measurements\n",
    "\n",
    "## Imports"
   ]
  },
  {
   "cell_type": "code",
   "execution_count": 1,
   "id": "3c917fb3-a3cd-4990-a447-c1f8d1daef31",
   "metadata": {},
   "outputs": [],
   "source": [
    "# Python Imports\n",
    "from os import path\n",
    "from IPython.core.display import display\n",
    "\n",
    "# 3rd Party Imports\n",
    "import numpy as np\n",
    "import pandas as pd\n",
    "from astropy.io import fits\n",
    "import pyregion as pyreg\n",
    "\n",
    "# ESO\n",
    "#import eso\n",
    "from astroptical.photometry import magnitude"
   ]
  },
  {
   "cell_type": "markdown",
   "id": "fabc3cdc-aa7c-42df-adf1-17db9c28ca13",
   "metadata": {},
   "source": [
    "## Notebook Setup\n",
    "\n",
    "### Computation Setup"
   ]
  },
  {
   "cell_type": "code",
   "execution_count": 2,
   "id": "c6359539-2266-4fe2-b11c-390269112bf0",
   "metadata": {},
   "outputs": [],
   "source": [
    "# Numpy Warnings\n",
    "_ = np.seterr(invalid='ignore')"
   ]
  },
  {
   "cell_type": "markdown",
   "id": "9d96a192-91c1-4a19-b506-b0fd52cef5ec",
   "metadata": {},
   "source": [
    "### Directories and Files"
   ]
  },
  {
   "cell_type": "code",
   "execution_count": 21,
   "id": "b3962c36-bd07-47e3-bdaa-8f69625ba427",
   "metadata": {},
   "outputs": [],
   "source": [
    "# Input Directories\n",
    "DS9_DIR = path.join('/Users/sunil/Documents/TestESO_137_002/ESO-137-002')\n",
    "\n",
    "# Image Files\n",
    "IMG_FNS = {\n",
    "    275: path.join(DS9_DIR, '08_drc_cosmicray',  'F275W_drc_chip_cleaned.fits'),\n",
    "    475: path.join(DS9_DIR, '08_drc_cosmicray',  'F475W_drc_chip_cleaned.fits'),\n",
    "    814: path.join(DS9_DIR, '08_drc_cosmicray',  'F814W_drc_chip_cleaned.fits'),\n",
    "    160: path.join(DS9_DIR, '03_drc_sunil',      'F160W-ES0_137_002_drz.fits')\n",
    "}\n",
    "\n",
    "# Region File Names\n",
    "REG_FNS = {\n",
    "    275: 'background_uvis_fk5.reg',\n",
    "    475: 'background_acs_fk5.reg',\n",
    "    814: 'background_acs_fk5.reg',\n",
    "    160: 'background_IR_fk5.reg',\n",
    "}\n",
    "REG_FNS = {key: path.join(DS9_DIR, '09_color_mag_regions', val) for key, val in REG_FNS.items()}"
   ]
  },
  {
   "cell_type": "markdown",
   "id": "514610e9-d270-4e8a-8ffe-79637830c872",
   "metadata": {},
   "source": [
    "## Functions"
   ]
  },
  {
   "cell_type": "code",
   "execution_count": 22,
   "id": "264dcc9c-55a6-4805-8293-35cf3aab86a1",
   "metadata": {},
   "outputs": [],
   "source": [
    "# Root Mean Square\n",
    "def rms(a, axis=None):\n",
    "    return np.sqrt(np.mean(np.square(a), axis=axis))"
   ]
  },
  {
   "cell_type": "markdown",
   "id": "9d1c4e25-86b0-4031-92c5-fba0451b4a8a",
   "metadata": {},
   "source": [
    "## Load Data"
   ]
  },
  {
   "cell_type": "markdown",
   "id": "e9fe8d4e-a9e7-41a4-a553-6e02a0570ea3",
   "metadata": {},
   "source": [
    "### Load Zeropoints"
   ]
  },
  {
   "cell_type": "code",
   "execution_count": 23,
   "id": "2ff5465b-f8e0-4a91-9fdb-a0e7efa8a409",
   "metadata": {},
   "outputs": [],
   "source": [
    "zpts = pd.read_pickle(path.join('/Users/sunil/Documents/TestESO_137_002\\\n",
    "/ESO-137-002/12_vorbin/pickle_table', 'eso_002_zero_pt_table.p'))"
   ]
  },
  {
   "cell_type": "markdown",
   "id": "6c84c91d-1062-420d-820d-97b459bc503e",
   "metadata": {},
   "source": [
    "### Load Images"
   ]
  },
  {
   "cell_type": "code",
   "execution_count": 24,
   "id": "a8a91bf6-5036-477e-9149-de1638d52657",
   "metadata": {},
   "outputs": [],
   "source": [
    "# Instantiate\n",
    "imgs, hdrs = {}, {}\n",
    "\n",
    "# Read\n",
    "for key, fileName in IMG_FNS.items():\n",
    "    with fits.open(fileName) as hduList:\n",
    "        \n",
    "        # Get Data\n",
    "        hdrs[key] = hduList[1].header\n",
    "        imgs[key] = hduList[1].data"
   ]
  },
  {
   "cell_type": "markdown",
   "id": "de6e2df8-6514-4c4e-ae30-f4c034589c11",
   "metadata": {},
   "source": [
    "## Load Regions"
   ]
  },
  {
   "cell_type": "code",
   "execution_count": 25,
   "id": "567b6caf-df8f-4d82-8199-9b997754ba65",
   "metadata": {},
   "outputs": [],
   "source": [
    "# Instantiate\n",
    "msks = {}\n",
    "\n",
    "# Load\n",
    "for key, fileName in REG_FNS.items():\n",
    "    \n",
    "    # Load\n",
    "    msks[key] = pyreg.open(fileName).get_mask(header=hdrs[key], shape=imgs[key].shape)"
   ]
  },
  {
   "cell_type": "markdown",
   "id": "91a2faed-721c-42eb-97e3-619d43604541",
   "metadata": {},
   "source": [
    "## Calculate the Data"
   ]
  },
  {
   "cell_type": "code",
   "execution_count": 26,
   "id": "9170b05b-eb4a-49e4-bbb5-7bdf5d20a128",
   "metadata": {},
   "outputs": [],
   "source": [
    "# Instantiate\n",
    "stats = pd.DataFrame(columns=['Mean', 'Std', 'RMS'], index=imgs.keys(), dtype=float)\n",
    "\n",
    "# Loop to Measure\n",
    "for key in imgs:\n",
    "    \n",
    "    # Extract\n",
    "    img, msk = imgs[key], msks[key]\n",
    "    \n",
    "    # Get the Masked Img\n",
    "    img = img[msk]\n",
    "    \n",
    "    # Get the Stats\n",
    "    stats['Mean'][key] = img.mean()\n",
    "    stats['Std'][key]  = img.std()\n",
    "    stats['RMS'][key]  = rms(img)"
   ]
  },
  {
   "cell_type": "code",
   "execution_count": 27,
   "id": "42eb7e0b-fc9d-4891-92d6-bcc6fc71d9f1",
   "metadata": {},
   "outputs": [],
   "source": [
    "# Get the Threshold Flux\n",
    "stats['Thresh Flux (Std)'] = 3*stats['Std']\n",
    "stats['Thresh Flux (RMS)'] = 3*stats['RMS']"
   ]
  },
  {
   "cell_type": "code",
   "execution_count": 28,
   "id": "875c21b3-d7b0-4f8e-b362-24e00c3263e4",
   "metadata": {},
   "outputs": [],
   "source": [
    "# Get the Threshold Mags\n",
    "stats['Thresh Mag (Std)'], _ = magnitude(stats['Thresh Flux (Std)'], zpts['abZpt'], zpts['GalExt'])\n",
    "stats['Thresh Mag (RMS)'], _ = magnitude(stats['Thresh Flux (RMS)'], zpts['abZpt'], zpts['GalExt'])"
   ]
  },
  {
   "cell_type": "code",
   "execution_count": 29,
   "id": "shared-whale",
   "metadata": {
    "scrolled": true
   },
   "outputs": [
    {
     "data": {
      "text/html": [
       "<div>\n",
       "<style scoped>\n",
       "    .dataframe tbody tr th:only-of-type {\n",
       "        vertical-align: middle;\n",
       "    }\n",
       "\n",
       "    .dataframe tbody tr th {\n",
       "        vertical-align: top;\n",
       "    }\n",
       "\n",
       "    .dataframe thead th {\n",
       "        text-align: right;\n",
       "    }\n",
       "</style>\n",
       "<table border=\"1\" class=\"dataframe\">\n",
       "  <thead>\n",
       "    <tr style=\"text-align: right;\">\n",
       "      <th></th>\n",
       "      <th>Mean</th>\n",
       "      <th>Std</th>\n",
       "      <th>RMS</th>\n",
       "      <th>Thresh Flux (Std)</th>\n",
       "      <th>Thresh Flux (RMS)</th>\n",
       "      <th>Thresh Mag (Std)</th>\n",
       "      <th>Thresh Mag (RMS)</th>\n",
       "    </tr>\n",
       "  </thead>\n",
       "  <tbody>\n",
       "    <tr>\n",
       "      <th>275</th>\n",
       "      <td>0.000026</td>\n",
       "      <td>0.000964</td>\n",
       "      <td>0.000964</td>\n",
       "      <td>0.002892</td>\n",
       "      <td>0.002893</td>\n",
       "      <td>29.422203</td>\n",
       "      <td>29.421805</td>\n",
       "    </tr>\n",
       "    <tr>\n",
       "      <th>475</th>\n",
       "      <td>-0.001262</td>\n",
       "      <td>0.002336</td>\n",
       "      <td>0.002655</td>\n",
       "      <td>0.007007</td>\n",
       "      <td>0.007964</td>\n",
       "      <td>30.792242</td>\n",
       "      <td>30.653112</td>\n",
       "    </tr>\n",
       "    <tr>\n",
       "      <th>814</th>\n",
       "      <td>-0.003158</td>\n",
       "      <td>0.004955</td>\n",
       "      <td>0.005875</td>\n",
       "      <td>0.014864</td>\n",
       "      <td>0.017626</td>\n",
       "      <td>30.212685</td>\n",
       "      <td>30.027642</td>\n",
       "    </tr>\n",
       "    <tr>\n",
       "      <th>160</th>\n",
       "      <td>-0.006965</td>\n",
       "      <td>0.002752</td>\n",
       "      <td>0.007489</td>\n",
       "      <td>0.008257</td>\n",
       "      <td>0.022466</td>\n",
       "      <td>31.052274</td>\n",
       "      <td>29.965485</td>\n",
       "    </tr>\n",
       "  </tbody>\n",
       "</table>\n",
       "</div>"
      ],
      "text/plain": [
       "         Mean       Std       RMS  Thresh Flux (Std)  Thresh Flux (RMS)  \\\n",
       "275  0.000026  0.000964  0.000964           0.002892           0.002893   \n",
       "475 -0.001262  0.002336  0.002655           0.007007           0.007964   \n",
       "814 -0.003158  0.004955  0.005875           0.014864           0.017626   \n",
       "160 -0.006965  0.002752  0.007489           0.008257           0.022466   \n",
       "\n",
       "     Thresh Mag (Std)  Thresh Mag (RMS)  \n",
       "275         29.422203         29.421805  \n",
       "475         30.792242         30.653112  \n",
       "814         30.212685         30.027642  \n",
       "160         31.052274         29.965485  "
      ]
     },
     "metadata": {},
     "output_type": "display_data"
    },
    {
     "name": "stdout",
     "output_type": "stream",
     "text": [
      "29.4 mag for F275W\n",
      "30.8 mag for F475W\n",
      "30.2 mag for F814W\n",
      "31.1 mag for F160W\n"
     ]
    }
   ],
   "source": [
    "# Display Results\n",
    "display(stats)\n",
    "for key, val in stats['Thresh Mag (Std)'].items():\n",
    "    print('{:.1f} mag for F{:d}W'.format(val, key))"
   ]
  },
  {
   "cell_type": "code",
   "execution_count": null,
   "id": "maritime-alabama",
   "metadata": {},
   "outputs": [],
   "source": []
  }
 ],
 "metadata": {
  "kernelspec": {
   "display_name": "Python 3 (ipykernel)",
   "language": "python",
   "name": "python3"
  },
  "language_info": {
   "codemirror_mode": {
    "name": "ipython",
    "version": 3
   },
   "file_extension": ".py",
   "mimetype": "text/x-python",
   "name": "python",
   "nbconvert_exporter": "python",
   "pygments_lexer": "ipython3",
   "version": "3.9.6"
  }
 },
 "nbformat": 4,
 "nbformat_minor": 5
}
