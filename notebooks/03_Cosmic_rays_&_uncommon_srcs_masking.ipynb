{
 "cells": [
  {
   "cell_type": "markdown",
   "metadata": {},
   "source": [
    "### Documentation\n",
    "This notebook demonstrates how to remove remaining cosmic-rays, artifacts from the drizzled images. Various tools and steps are implemented to reduce the contamination. Sextractor is one of the tool that builds large catalog of sources, helps to identify cosmic-rays, bright objects and build photometry.\n",
    "\n",
    "* [SExtractor](https://www.astromatic.net/software/sextractor/)\n",
    "* [Roy Gal's Note on SExtractor](https://home.ifa.hawaii.edu/users/rgal/science/sextractor_notes.html)\n",
    "* [Zhtools](http://hea-www.harvard.edu/RD/zhtools/)\n",
    "* [Pyraf](https://pyraf.readthedocs.io/en/latest/)\n",
    "* [Astroscrappy](https://pypi.org/project/astroscrappy/)\n",
    "\n",
    "#### Package that I used for measuring flux, distance, etc  \n",
    "[Astroptical](https://github.com/wwaldron/AstrOptical) by Will Waldron"
   ]
  },
  {
   "cell_type": "markdown",
   "metadata": {},
   "source": [
    "### Step 1\n",
    "After astrometry\n",
    "- create a ds9 region covering chip gaps & edges #only support ellipse \n",
    "- save in the (FORMAT:ds9, COORD: image)\n",
    "- Install SExtractor"
   ]
  },
  {
   "cell_type": "markdown",
   "metadata": {},
   "source": [
    "``SExtractor is run from the shell with the following syntax:``\n",
    " \n",
    "```bash\n",
    "\n",
    "sex Image1 [Image2] -c configuration-file [-Parameter1 Value1 -Parameter2 Value2 ...]\n",
    "\n",
    "#!/bin/bash\n",
    "\n",
    "IMG_DIR=$HOME/ESO_137_002/OriginalFiles/08_drc_cosmicray\n",
    "CONF_DIR=Photometry/OrigImages\n",
    "\n",
    "# Run for F275W\n",
    "sex $IMG_DIR/F275W_drc_chip_cleaned.fits[1] -c $CONF_DIR/ESO_F275W.conf\n",
    "\n",
    "# Run for F475W\n",
    "sex $IMG_DIR/F475W_drc_chip_cleaned.fits[1] -c $CONF_DIR/ESO_F475W.conf\n",
    "\n",
    "# Run for F814W\n",
    "sex $IMG_DIR/F814W_drc_chip_cleaned.fits[1] -c $CONF_DIR/ESO_F814W.conf\n",
    "\n",
    "```"
   ]
  },
  {
   "cell_type": "markdown",
   "metadata": {},
   "source": [
    "### Step 2 \n",
    "\n",
    "- run finduncommonsrcs.ipyn to get region files for F275W, F475W, F814W. \n",
    "\n",
    "```python\n",
    "from astroptical.sextractor import finduncommonsrcs\n",
    "catFiles=['catfile_F275W.cat', 'catfile_F475W.cat', 'catfile_F814W.cat']\n",
    "finduncommonsrcs(catFiles, roiFile='chip_gap_reg', maxPixSep=3, writeRegions=True,outDir=None, circRegRadius=5)#goodpixel=0 and badpixel=1\n",
    "```\n",
    "\n",
    "**Note**\n",
    "The cat files are the catalog files from the SExtractor.The code will output 3 region files with uncommon sources in each filter. tweak circRegRadious to increase or decrease the size of region."
   ]
  },
  {
   "cell_type": "markdown",
   "metadata": {},
   "source": [
    "### Step 3\n",
    "\n",
    "#### run Zhtools-mkreg command to create mask images\n",
    "```bash\n",
    "    mkreg refimg=F475W-ES0_137_002_drc.fits[1] out=F475W_cr_mask.fits reg=file:ESO_Orig_F475W_uncommon.reg    \n",
    " ```\n",
    "**Note** remove 1st line/multiple lines from the reg files if you use mkreg \n",
    "- visually reinspect reg files "
   ]
  },
  {
   "cell_type": "markdown",
   "metadata": {},
   "source": [
    "### Step 4\n",
    "**run PYRAF to create drc_chip.fits**\n",
    "```bash\n",
    " \n",
    "pyraf/ecl  \n",
    "\n",
    "imcopy F814W_cr_mask.fits F814W_cr_mask.pl # Create copies of the masks\n",
    "\n",
    "noao # Open the CRFIX Tool\n",
    "\n",
    "imred\n",
    "\n",
    "crutil \n",
    "\n",
    "crfix #mask undesired srcs \n",
    " \n",
    "Input image: F814W_drc.fits[1]\n",
    "\n",
    "Output image: F814W_drc_chip.fits    \n",
    "\n",
    "Cosmic ray mask: F814W_cr_mask.pl\n",
    "```"
   ]
  },
  {
   "cell_type": "markdown",
   "metadata": {},
   "source": [
    "### Step 4\n",
    "- add header file at the end\n",
    "```python\n",
    "from astroptical.fitsutil import fixirafcrfix\n",
    " \n",
    "fixirafcrfix('original_file', 'crfix')\n",
    "```"
   ]
  },
  {
   "cell_type": "markdown",
   "metadata": {},
   "source": [
    "### Step 5\n",
    "(author: Will Waldron)\n",
    "- using astroscrappy \n",
    "```python\n",
    "from astroptical.cosmicray import createmask\n",
    "#createmask(fileName, pssl=#, exposure=# ) \n",
    "createmask('F814W-IC_3418_drc.fits',exposure=1356,pssl=231)\n",
    "```\n",
    "\n",
    "**Note**\n",
    "\n",
    "    pssl= SKY(background noise), add all background noise from *flc.fits\n",
    "    e.g. for F475W, there are 2 FOV but altogether 4 SCI ext which need \n",
    "    to be added in the units of #/square arcsec. Alternatively, you can \n",
    "    add all 'MDRIZSKY' values from astrodrizzle.log\n",
    " \n",
    " \n",
    "    exposure=EXPTIME, add all exp time #exposure in astrodrizzle.log or \n",
    "    header file of FITS, higher the pssl higher the detection, higher \n",
    "    the exposure lower the detection"
   ]
  },
  {
   "cell_type": "markdown",
   "metadata": {},
   "source": [
    "### Step 6\n",
    "When creating mask image, weight image is deleted from the FITS extension  \n",
    "So don't forget to add weight image from the original drc image to create RMS image"
   ]
  },
  {
   "cell_type": "code",
   "execution_count": 16,
   "metadata": {},
   "outputs": [],
   "source": [
    "drizzle_img='F814W-IC_3418_drc.fits'\n",
    "clean_img='F814W-IC_3418_drc_chip_cleaned.fits'\n",
    "with fits.open(drizzle) as fid:\n",
    "    primHdr=fits.PrimaryHDU(header=fid[0].header)\n",
    "    Wht=fits.ImageHDU(fid['WHT'].data, header=fid['WHT'].header)\n",
    "\n",
    "with fits.open(clean) as hid:\n",
    "    SciHdr=fits.ImageHDU(hid['SCI'].data, header=hid['SCI'].header)\n",
    "    \n",
    "        \n",
    "hduListOut=fits.HDUList([primHdr,SciHdr,Wht])\n",
    "hduListOut.writeto(clean,overwrite=True)\n"
   ]
  },
  {
   "cell_type": "code",
   "execution_count": 17,
   "metadata": {},
   "outputs": [
    {
     "name": "stdout",
     "output_type": "stream",
     "text": [
      "Filename: ../03_chip_gap/F814W-IC_3418_drc_chip_cleaned.fits\n",
      "No.    Name      Ver    Type      Cards   Dimensions   Format\n",
      "  0  PRIMARY       1 PrimaryHDU     847   ()      \n",
      "  1  SCI           1 ImageHDU       426   (12025, 12114)   float32   \n",
      "  2  WHT           1 ImageHDU        47   (12025, 12114)   float32   \n"
     ]
    }
   ],
   "source": [
    "#check for the weight image \n",
    "with fits.open('../03_chip_gap/F814W-IC_3418_drc_chip_cleaned.fits') as fid:\n",
    "    fid.info()"
   ]
  },
  {
   "cell_type": "markdown",
   "metadata": {},
   "source": [
    "### Create RMS images\n",
    "\n",
    "```python\n",
    "from astroptical.fitsutil import creatermsimage\n",
    "creatermsimage('../03_chip_gap/F275W-IC_3418_drc_chip_cleaned.fits');\n",
    "```"
   ]
  },
  {
   "cell_type": "code",
   "execution_count": null,
   "metadata": {},
   "outputs": [],
   "source": []
  }
 ],
 "metadata": {
  "kernelspec": {
   "display_name": "Python 3 (ipykernel)",
   "language": "python",
   "name": "python3"
  },
  "language_info": {
   "codemirror_mode": {
    "name": "ipython",
    "version": 3
   },
   "file_extension": ".py",
   "mimetype": "text/x-python",
   "name": "python",
   "nbconvert_exporter": "python",
   "pygments_lexer": "ipython3",
   "version": "3.9.6"
  }
 },
 "nbformat": 4,
 "nbformat_minor": 2
}
