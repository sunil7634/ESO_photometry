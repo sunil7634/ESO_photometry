{
 "cells": [
  {
   "cell_type": "markdown",
   "id": "3216796a",
   "metadata": {},
   "source": [
    "### Step 1"
   ]
  },
  {
   "cell_type": "markdown",
   "id": "a33d888c",
   "metadata": {},
   "source": [
    "After completing astrometry\n",
    "\n",
    "- create a ds9 region covering chip gaps & edges #only support ellipse \n",
    "- save in the (FORMAT:ds9, COORD: image)\n",
    "- Install SExtractor"
   ]
  },
  {
   "cell_type": "markdown",
   "id": "0c96879f",
   "metadata": {},
   "source": [
    "### bash script for running SExtractor single mode "
   ]
  },
  {
   "cell_type": "markdown",
   "id": "d76f5fec",
   "metadata": {},
   "source": [
    "```bash\n",
    "    #!/bin/bash\n",
    "    #Commands to run SExtractor on the Hubble Pipeline drizzled images\n",
    "\n",
    "    # SExtractor needs to be run in the directory where the measurement file is\n",
    "    # sitting\n",
    "\n",
    "    IMG_DIR=../../../../TestESO_137_002/OriginalFiles/08_drc_cosmicray\n",
    "    CONF_DIR=Photometry/OrigImages\n",
    "\n",
    "    # Run for F275W\n",
    "    sex $IMG_DIR/F275W_drc_chip_cleaned.fits[1] -c $CONF_DIR/sunil_ESO_F275W.conf\n",
    "\n",
    "\n",
    "    # Run for F475W\n",
    "    sex $IMG_DIR/F475W_drc_chip_cleaned.fits[1] -c $CONF_DIR/sunil_ESO_F475W.conf\n",
    "\n",
    "    # Run for F814W\n",
    "    sex $IMG_DIR/F814W_drc_chip_cleaned.fits[1] -c $CONF_DIR/sunil_ESO_F814W.conf\n",
    "\n",
    "  ```"
   ]
  },
  {
   "cell_type": "markdown",
   "id": "a5ae733b",
   "metadata": {},
   "source": [
    "### Step 2\n",
    "\n",
    "- run finduncommonsrcs.ipyn to get region files for F275W, F475W, F814W. \n",
    "\n",
    "- maxPixSep=5, circRegRadius=5 eg. sunil_ESO_Orig_F475W_uncommon.reg\n",
    "\n",
    "- if the circle radius is too small, it might not cover all the CR\n",
    "\n",
    "- visually inspect reg files to include/exclude srcs [e.g.-box,ellipse suitable in ds9](add lines to make partition so that it will be easy to check)\n",
    "\n"
   ]
  },
  {
   "cell_type": "markdown",
   "id": "6c42ea85",
   "metadata": {},
   "source": [
    "### Step 3\n",
    "\n",
    "- run Zhtools-mkreg command to create mask images.#look for mkregCommands_sunil.sh for all shortcuts\n",
    "\n",
    "- remove 1st line/multiple lines from the reg filese if you use mkreg #no need to remove if using Will's code mkreg.py\n",
    "\n",
    "- visually reinspect reg files "
   ]
  },
  {
   "cell_type": "markdown",
   "id": "96e506c2",
   "metadata": {},
   "source": [
    "### script for running zhtools"
   ]
  },
  {
   "cell_type": "markdown",
   "id": "28d1ce70",
   "metadata": {},
   "source": [
    "```bash\n",
    "    >> mkreg nx=9329 ny=9262 out=F475W_cr_mask.fits reg=file:sunil_ESO_Orig_F475W_uncommon.reg \n",
    "    #make sure to check the header file for verifying the nx,ny otherwise your reg file may not clean all the CRs\n",
    "    \n",
    "    Alternatively \n",
    "    >> mkreg refimg=F475W-ES0_137_002_drc.fits[1] out=F475W_cr_mask.fits reg=file:sunil_ESO_Orig_F475W_uncommon.reg\n",
    " ```"
   ]
  },
  {
   "cell_type": "code",
   "execution_count": null,
   "id": "03ca5d98",
   "metadata": {},
   "outputs": [],
   "source": []
  }
 ],
 "metadata": {
  "kernelspec": {
   "display_name": "Python 3 (ipykernel)",
   "language": "python",
   "name": "python3"
  },
  "language_info": {
   "codemirror_mode": {
    "name": "ipython",
    "version": 3
   },
   "file_extension": ".py",
   "mimetype": "text/x-python",
   "name": "python",
   "nbconvert_exporter": "python",
   "pygments_lexer": "ipython3",
   "version": "3.9.6"
  }
 },
 "nbformat": 4,
 "nbformat_minor": 5
}
